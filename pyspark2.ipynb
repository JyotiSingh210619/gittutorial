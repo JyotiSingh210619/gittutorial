{
 "cells": [
  {
   "cell_type": "code",
   "execution_count": 1,
   "id": "0c951211-6333-4a5d-83c5-a4bfc13b57ca",
   "metadata": {},
   "outputs": [],
   "source": [
    "import findspark\n",
    "findspark.init()\n",
    "from pyspark.sql import SparkSession\n",
    "spark = SparkSession.builder.master(\"local[1]\") \\\n",
    "    .appName(\"SparkByExamples.com\").getOrCreate()\n",
    "\n",
    "data = [\"Project\",\"Gutenberg’s\",\"Alice’s\",\"Adventures\",\n",
    "\"in\",\"Wonderland\",\"Project\",\"Gutenberg’s\",\"Adventures\",\n",
    "\"in\",\"Wonderland\",\"Project\",\"Gutenberg’s\"]\n",
    "\n",
    "rdd=spark.sparkContext.parallelize(data)"
   ]
  },
  {
   "cell_type": "code",
   "execution_count": 8,
   "id": "24fb4198-6e9e-462b-8418-07f218f76165",
   "metadata": {},
   "outputs": [
    {
     "name": "stdout",
     "output_type": "stream",
     "text": [
      "('Project', 1)\n",
      "('Gutenberg’s', 1)\n",
      "('Alice’s', 1)\n",
      "('Adventures', 1)\n",
      "('in', 1)\n",
      "('Wonderland', 1)\n",
      "('Project', 1)\n",
      "('Gutenberg’s', 1)\n",
      "('Adventures', 1)\n",
      "('in', 1)\n",
      "('Wonderland', 1)\n",
      "('Project', 1)\n",
      "('Gutenberg’s', 1)\n"
     ]
    }
   ],
   "source": [
    "rdd2=rdd.map(lambda x: (x,1))\n",
    "for element in rdd2.collect():\n",
    "    print(element)"
   ]
  },
  {
   "cell_type": "code",
   "execution_count": 3,
   "id": "b6ce16b2-465e-45b4-aa1f-71b8052e07f8",
   "metadata": {},
   "outputs": [
    {
     "name": "stdout",
     "output_type": "stream",
     "text": [
      "+---------+--------+------+------+\n",
      "|firstname|lastname|gender|salary|\n",
      "+---------+--------+------+------+\n",
      "|    James|   Smith|     M|    30|\n",
      "|     Anna|    Rose|     F|    41|\n",
      "|   Robert|Williams|     M|    62|\n",
      "+---------+--------+------+------+\n",
      "\n"
     ]
    }
   ],
   "source": [
    "data = [('James','Smith','M',30),\n",
    "  ('Anna','Rose','F',41),\n",
    "  ('Robert','Williams','M',62), \n",
    "]\n",
    "\n",
    "columns = [\"firstname\",\"lastname\",\"gender\",\"salary\"]\n",
    "df = spark.createDataFrame(data=data, schema = columns)\n",
    "df.show()"
   ]
  },
  {
   "cell_type": "code",
   "execution_count": 4,
   "id": "d9d8a0b9-c12e-4a2e-9557-39ca6098e1f5",
   "metadata": {},
   "outputs": [
    {
     "name": "stdout",
     "output_type": "stream",
     "text": [
      "+---------------+------+----------+\n",
      "|           name|gender|new_salary|\n",
      "+---------------+------+----------+\n",
      "|    James,Smith|     M|        60|\n",
      "|      Anna,Rose|     F|        82|\n",
      "|Robert,Williams|     M|       124|\n",
      "+---------------+------+----------+\n",
      "\n"
     ]
    }
   ],
   "source": [
    "rdd2=df.rdd.map(lambda x: \n",
    "    (x[0]+\",\"+x[1],x[2],x[3]*2)\n",
    "    )  \n",
    "df2=rdd2.toDF([\"name\",\"gender\",\"new_salary\"]   )\n",
    "df2.show()"
   ]
  },
  {
   "cell_type": "code",
   "execution_count": 5,
   "id": "4a73f94e-9a4f-4fc5-be9f-8e5ba36b7d1a",
   "metadata": {},
   "outputs": [],
   "source": [
    "def func1(x):\n",
    "    firstName=x.firstname\n",
    "    lastName=x.lastname\n",
    "    name=firstName+\",\"+lastName\n",
    "    gender=x.gender.lower()\n",
    "    salary=x.salary*2\n",
    "    return (name,gender,salary)\n",
    "\n",
    "# Apply the func1 function using lambda\n",
    "rdd2 = df.rdd.map(lambda x: func1(x))"
   ]
  },
  {
   "cell_type": "code",
   "execution_count": 6,
   "id": "3b8c4b5c-44a3-4462-bd3d-fe74abca32fa",
   "metadata": {},
   "outputs": [
    {
     "name": "stdout",
     "output_type": "stream",
     "text": [
      "('James,Smith', 'm', 60)\n",
      "('Anna,Rose', 'f', 82)\n",
      "('Robert,Williams', 'm', 124)\n"
     ]
    }
   ],
   "source": [
    "rdd2 = df.rdd.map(func1)\n",
    "for element in rdd2.collect():\n",
    "    print(element)"
   ]
  },
  {
   "cell_type": "code",
   "execution_count": 10,
   "id": "d8511135-4b8f-43fc-a5ba-ccb78592e7e4",
   "metadata": {},
   "outputs": [
    {
     "name": "stdout",
     "output_type": "stream",
     "text": [
      "+------+--------+-------+-------+---------+\n",
      "|emp_id|emp_name|dept_id|dept_id|dept_name|\n",
      "+------+--------+-------+-------+---------+\n",
      "|     1|    John|      1|      1|       HR|\n",
      "|     2|    Emma|      2|      2|     Tech|\n",
      "+------+--------+-------+-------+---------+\n",
      "\n"
     ]
    }
   ],
   "source": [
    "data_employees = [(1, \"John\", 1), (2, \"Emma\", 2), (3, \"Raj\", None), (4, \"Nina\", 4)]\n",
    "data_departments = [(1, \"HR\"), (2, \"Tech\"), (3, \"Marketing\"), (None, \"Temp\")]\n",
    "\n",
    "columns_employees = [\"emp_id\", \"emp_name\", \"dept_id\"]\n",
    "columns_departments = [\"dept_id\", \"dept_name\"]\n",
    "\n",
    "df_employees = spark.createDataFrame(data_employees, columns_employees)\n",
    "df_departments = spark.createDataFrame(data_departments, columns_departments)\n",
    "\n",
    "# Perform INNER JOIN\n",
    "# since `inner` is the default join type, we can omit it\n",
    "df_joined = df_employees.join(df_departments, df_employees.dept_id == df_departments.dept_id)\n",
    "\n",
    "# Show the result\n",
    "df_joined.show()"
   ]
  },
  {
   "cell_type": "code",
   "execution_count": 11,
   "id": "17980fa5-e776-4c41-948e-0b1bf44f66c1",
   "metadata": {},
   "outputs": [
    {
     "name": "stdout",
     "output_type": "stream",
     "text": [
      "+------+--------+-------+-------+---------+\n",
      "|emp_id|emp_name|dept_id|dept_id|dept_name|\n",
      "+------+--------+-------+-------+---------+\n",
      "|     1|    John|      1|      1|       HR|\n",
      "|     1|    John|      1|      2|     Tech|\n",
      "|     1|    John|      1|      3|Marketing|\n",
      "|     1|    John|      1|   NULL|     Temp|\n",
      "|     2|    Emma|      2|      1|       HR|\n",
      "|     2|    Emma|      2|      2|     Tech|\n",
      "|     2|    Emma|      2|      3|Marketing|\n",
      "|     2|    Emma|      2|   NULL|     Temp|\n",
      "|     3|     Raj|   NULL|      1|       HR|\n",
      "|     3|     Raj|   NULL|      2|     Tech|\n",
      "|     3|     Raj|   NULL|      3|Marketing|\n",
      "|     3|     Raj|   NULL|   NULL|     Temp|\n",
      "|     4|    Nina|      4|      1|       HR|\n",
      "|     4|    Nina|      4|      2|     Tech|\n",
      "|     4|    Nina|      4|      3|Marketing|\n",
      "|     4|    Nina|      4|   NULL|     Temp|\n",
      "+------+--------+-------+-------+---------+\n",
      "\n"
     ]
    }
   ],
   "source": [
    "df_cross_joined = df_employees.crossJoin(df_departments)\n",
    "df_cross_joined.show()"
   ]
  },
  {
   "cell_type": "code",
   "execution_count": 12,
   "id": "19ef4909-7487-4357-9470-7ccf4584e815",
   "metadata": {},
   "outputs": [
    {
     "name": "stdout",
     "output_type": "stream",
     "text": [
      "+------+--------+-------+-------+---------+\n",
      "|emp_id|emp_name|dept_id|dept_id|dept_name|\n",
      "+------+--------+-------+-------+---------+\n",
      "|     3|     Raj|   NULL|   NULL|     NULL|\n",
      "|     1|    John|      1|      1|       HR|\n",
      "|     2|    Emma|      2|      2|     Tech|\n",
      "|     4|    Nina|      4|   NULL|     NULL|\n",
      "+------+--------+-------+-------+---------+\n",
      "\n"
     ]
    }
   ],
   "source": [
    "df_leftjoined = df_employees.join(df_departments, df_employees.dept_id == df_departments.dept_id, \"left\")\n",
    "# Show the result\n",
    "df_leftjoined.show()"
   ]
  },
  {
   "cell_type": "code",
   "execution_count": 13,
   "id": "a1ed6129-087d-47b0-b12b-f2bf9d7d9ff8",
   "metadata": {},
   "outputs": [
    {
     "name": "stdout",
     "output_type": "stream",
     "text": [
      "+------+--------+-------+-------+---------+\n",
      "|emp_id|emp_name|dept_id|dept_id|dept_name|\n",
      "+------+--------+-------+-------+---------+\n",
      "|  NULL|    NULL|   NULL|   NULL|     Temp|\n",
      "|     1|    John|      1|      1|       HR|\n",
      "|  NULL|    NULL|   NULL|      3|Marketing|\n",
      "|     2|    Emma|      2|      2|     Tech|\n",
      "+------+--------+-------+-------+---------+\n",
      "\n"
     ]
    }
   ],
   "source": [
    "df_rightjoined = df_employees.join(df_departments, df_employees.dept_id == df_departments.dept_id, \"right\")\n",
    "# Show the result\n",
    "df_rightjoined.show()"
   ]
  },
  {
   "cell_type": "code",
   "execution_count": 14,
   "id": "844a8575-9e09-4171-a998-a54f6d3031bf",
   "metadata": {},
   "outputs": [
    {
     "name": "stdout",
     "output_type": "stream",
     "text": [
      "+---+-----+\n",
      "| id| name|\n",
      "+---+-----+\n",
      "|  1|Alice|\n",
      "|  2|  Bob|\n",
      "+---+-----+\n",
      "\n"
     ]
    }
   ],
   "source": [
    "data_users = [(1, \"Alice\"), (2, \"Bob\"), (3, \"Charlie\"), (4, \"David\")]\n",
    "data_purchases = [(1, \"Book\"), (2, \"Pen\"), (5, \"Notebook\")]\n",
    "\n",
    "columns_users = [\"id\", \"name\"]\n",
    "columns_purchases = [\"user_id\", \"item\"]\n",
    "\n",
    "df_users = spark.createDataFrame(data_users, columns_users)\n",
    "df_purchases = spark.createDataFrame(data_purchases, columns_purchases)\n",
    "\n",
    "# Perform Left Semi Join\n",
    "df_purchasers = df_users.join(df_purchases, df_users.id == df_purchases.user_id, \"left_semi\")\n",
    "\n",
    "# Show the result\n",
    "df_purchasers.show()"
   ]
  },
  {
   "cell_type": "code",
   "execution_count": 15,
   "id": "c68a376d-dbb2-4d3f-a428-1ffe2fde4525",
   "metadata": {},
   "outputs": [
    {
     "name": "stdout",
     "output_type": "stream",
     "text": [
      "+---+-------+\n",
      "| id|   name|\n",
      "+---+-------+\n",
      "|  3|Charlie|\n",
      "|  4|  David|\n",
      "+---+-------+\n",
      "\n"
     ]
    }
   ],
   "source": [
    "# Perform Left anti Join\n",
    "df_purchasers = df_users.join(df_purchases, df_users.id == df_purchases.user_id, \"left_anti\")\n",
    "\n",
    "# Show the result\n",
    "df_purchasers.show()"
   ]
  },
  {
   "cell_type": "code",
   "execution_count": 17,
   "id": "1a9774a7-62f2-4c99-a06d-af65449442f7",
   "metadata": {},
   "outputs": [
    {
     "ename": "AnalysisException",
     "evalue": "[PATH_NOT_FOUND] Path does not exist: file:/C:/Users/Administrator/Zipcodes.csv.",
     "output_type": "error",
     "traceback": [
      "\u001b[1;31m---------------------------------------------------------------------------\u001b[0m",
      "\u001b[1;31mAnalysisException\u001b[0m                         Traceback (most recent call last)",
      "Cell \u001b[1;32mIn[17], line 1\u001b[0m\n\u001b[1;32m----> 1\u001b[0m df \u001b[38;5;241m=\u001b[39m \u001b[43mspark\u001b[49m\u001b[38;5;241;43m.\u001b[39;49m\u001b[43mread\u001b[49m\u001b[38;5;241;43m.\u001b[39;49m\u001b[43moption\u001b[49m\u001b[43m(\u001b[49m\u001b[38;5;124;43m\"\u001b[39;49m\u001b[38;5;124;43mheader\u001b[39;49m\u001b[38;5;124;43m\"\u001b[39;49m\u001b[43m,\u001b[49m\u001b[38;5;28;43;01mTrue\u001b[39;49;00m\u001b[43m)\u001b[49m\u001b[38;5;241;43m.\u001b[39;49m\u001b[43mcsv\u001b[49m\u001b[43m(\u001b[49m\u001b[38;5;124;43m\"\u001b[39;49m\u001b[38;5;124;43mZipcodes.csv\u001b[39;49m\u001b[38;5;124;43m\"\u001b[39;49m\u001b[43m)\u001b[49m\u001b[38;5;241m.\u001b[39mcreateOrReplaceTempView(\u001b[38;5;124m\"\u001b[39m\u001b[38;5;124mZipcodes\u001b[39m\u001b[38;5;124m\"\u001b[39m)\n\u001b[0;32m      2\u001b[0m spark\u001b[38;5;241m.\u001b[39msql(\u001b[38;5;124m\"\u001b[39m\u001b[38;5;124mSELECT country, city, zipcode, state FROM ZIPCODES\u001b[39m\u001b[38;5;124m\"\u001b[39m)\u001b[38;5;241m.\u001b[39mshow(\u001b[38;5;241m5\u001b[39m)\n",
      "File \u001b[1;32mC:\\spark\\spark-3.5.2-bin-hadoop3\\python\\pyspark\\sql\\readwriter.py:740\u001b[0m, in \u001b[0;36mDataFrameReader.csv\u001b[1;34m(self, path, schema, sep, encoding, quote, escape, comment, header, inferSchema, ignoreLeadingWhiteSpace, ignoreTrailingWhiteSpace, nullValue, nanValue, positiveInf, negativeInf, dateFormat, timestampFormat, maxColumns, maxCharsPerColumn, maxMalformedLogPerPartition, mode, columnNameOfCorruptRecord, multiLine, charToEscapeQuoteEscaping, samplingRatio, enforceSchema, emptyValue, locale, lineSep, pathGlobFilter, recursiveFileLookup, modifiedBefore, modifiedAfter, unescapedQuoteHandling)\u001b[0m\n\u001b[0;32m    738\u001b[0m \u001b[38;5;28;01mif\u001b[39;00m \u001b[38;5;28mtype\u001b[39m(path) \u001b[38;5;241m==\u001b[39m \u001b[38;5;28mlist\u001b[39m:\n\u001b[0;32m    739\u001b[0m     \u001b[38;5;28;01massert\u001b[39;00m \u001b[38;5;28mself\u001b[39m\u001b[38;5;241m.\u001b[39m_spark\u001b[38;5;241m.\u001b[39m_sc\u001b[38;5;241m.\u001b[39m_jvm \u001b[38;5;129;01mis\u001b[39;00m \u001b[38;5;129;01mnot\u001b[39;00m \u001b[38;5;28;01mNone\u001b[39;00m\n\u001b[1;32m--> 740\u001b[0m     \u001b[38;5;28;01mreturn\u001b[39;00m \u001b[38;5;28mself\u001b[39m\u001b[38;5;241m.\u001b[39m_df(\u001b[38;5;28;43mself\u001b[39;49m\u001b[38;5;241;43m.\u001b[39;49m\u001b[43m_jreader\u001b[49m\u001b[38;5;241;43m.\u001b[39;49m\u001b[43mcsv\u001b[49m\u001b[43m(\u001b[49m\u001b[38;5;28;43mself\u001b[39;49m\u001b[38;5;241;43m.\u001b[39;49m\u001b[43m_spark\u001b[49m\u001b[38;5;241;43m.\u001b[39;49m\u001b[43m_sc\u001b[49m\u001b[38;5;241;43m.\u001b[39;49m\u001b[43m_jvm\u001b[49m\u001b[38;5;241;43m.\u001b[39;49m\u001b[43mPythonUtils\u001b[49m\u001b[38;5;241;43m.\u001b[39;49m\u001b[43mtoSeq\u001b[49m\u001b[43m(\u001b[49m\u001b[43mpath\u001b[49m\u001b[43m)\u001b[49m\u001b[43m)\u001b[49m)\n\u001b[0;32m    741\u001b[0m \u001b[38;5;28;01melif\u001b[39;00m \u001b[38;5;28misinstance\u001b[39m(path, RDD):\n\u001b[0;32m    743\u001b[0m     \u001b[38;5;28;01mdef\u001b[39;00m \u001b[38;5;21mfunc\u001b[39m(iterator):\n",
      "File \u001b[1;32mC:\\spark\\spark-3.5.2-bin-hadoop3\\python\\lib\\py4j-0.10.9.7-src.zip\\py4j\\java_gateway.py:1322\u001b[0m, in \u001b[0;36mJavaMember.__call__\u001b[1;34m(self, *args)\u001b[0m\n\u001b[0;32m   1316\u001b[0m command \u001b[38;5;241m=\u001b[39m proto\u001b[38;5;241m.\u001b[39mCALL_COMMAND_NAME \u001b[38;5;241m+\u001b[39m\\\n\u001b[0;32m   1317\u001b[0m     \u001b[38;5;28mself\u001b[39m\u001b[38;5;241m.\u001b[39mcommand_header \u001b[38;5;241m+\u001b[39m\\\n\u001b[0;32m   1318\u001b[0m     args_command \u001b[38;5;241m+\u001b[39m\\\n\u001b[0;32m   1319\u001b[0m     proto\u001b[38;5;241m.\u001b[39mEND_COMMAND_PART\n\u001b[0;32m   1321\u001b[0m answer \u001b[38;5;241m=\u001b[39m \u001b[38;5;28mself\u001b[39m\u001b[38;5;241m.\u001b[39mgateway_client\u001b[38;5;241m.\u001b[39msend_command(command)\n\u001b[1;32m-> 1322\u001b[0m return_value \u001b[38;5;241m=\u001b[39m \u001b[43mget_return_value\u001b[49m\u001b[43m(\u001b[49m\n\u001b[0;32m   1323\u001b[0m \u001b[43m    \u001b[49m\u001b[43manswer\u001b[49m\u001b[43m,\u001b[49m\u001b[43m \u001b[49m\u001b[38;5;28;43mself\u001b[39;49m\u001b[38;5;241;43m.\u001b[39;49m\u001b[43mgateway_client\u001b[49m\u001b[43m,\u001b[49m\u001b[43m \u001b[49m\u001b[38;5;28;43mself\u001b[39;49m\u001b[38;5;241;43m.\u001b[39;49m\u001b[43mtarget_id\u001b[49m\u001b[43m,\u001b[49m\u001b[43m \u001b[49m\u001b[38;5;28;43mself\u001b[39;49m\u001b[38;5;241;43m.\u001b[39;49m\u001b[43mname\u001b[49m\u001b[43m)\u001b[49m\n\u001b[0;32m   1325\u001b[0m \u001b[38;5;28;01mfor\u001b[39;00m temp_arg \u001b[38;5;129;01min\u001b[39;00m temp_args:\n\u001b[0;32m   1326\u001b[0m     \u001b[38;5;28;01mif\u001b[39;00m \u001b[38;5;28mhasattr\u001b[39m(temp_arg, \u001b[38;5;124m\"\u001b[39m\u001b[38;5;124m_detach\u001b[39m\u001b[38;5;124m\"\u001b[39m):\n",
      "File \u001b[1;32mC:\\spark\\spark-3.5.2-bin-hadoop3\\python\\pyspark\\errors\\exceptions\\captured.py:185\u001b[0m, in \u001b[0;36mcapture_sql_exception.<locals>.deco\u001b[1;34m(*a, **kw)\u001b[0m\n\u001b[0;32m    181\u001b[0m converted \u001b[38;5;241m=\u001b[39m convert_exception(e\u001b[38;5;241m.\u001b[39mjava_exception)\n\u001b[0;32m    182\u001b[0m \u001b[38;5;28;01mif\u001b[39;00m \u001b[38;5;129;01mnot\u001b[39;00m \u001b[38;5;28misinstance\u001b[39m(converted, UnknownException):\n\u001b[0;32m    183\u001b[0m     \u001b[38;5;66;03m# Hide where the exception came from that shows a non-Pythonic\u001b[39;00m\n\u001b[0;32m    184\u001b[0m     \u001b[38;5;66;03m# JVM exception message.\u001b[39;00m\n\u001b[1;32m--> 185\u001b[0m     \u001b[38;5;28;01mraise\u001b[39;00m converted \u001b[38;5;28;01mfrom\u001b[39;00m \u001b[38;5;28;01mNone\u001b[39;00m\n\u001b[0;32m    186\u001b[0m \u001b[38;5;28;01melse\u001b[39;00m:\n\u001b[0;32m    187\u001b[0m     \u001b[38;5;28;01mraise\u001b[39;00m\n",
      "\u001b[1;31mAnalysisException\u001b[0m: [PATH_NOT_FOUND] Path does not exist: file:/C:/Users/Administrator/Zipcodes.csv."
     ]
    }
   ],
   "source": [
    "df = spark.read.option(\"header\",True).csv(\"Zipcodes.csv\").createOrReplaceTempView(\"Zipcodes\")\n",
    "spark.sql(\"SELECT country, city, zipcode, state FROM ZIPCODES\").show(5)"
   ]
  },
  {
   "cell_type": "code",
   "execution_count": null,
   "id": "aa85f53c-795c-418b-a256-4e57872a838a",
   "metadata": {},
   "outputs": [],
   "source": []
  }
 ],
 "metadata": {
  "kernelspec": {
   "display_name": "Python 3 (ipykernel)",
   "language": "python",
   "name": "python3"
  },
  "language_info": {
   "codemirror_mode": {
    "name": "ipython",
    "version": 3
   },
   "file_extension": ".py",
   "mimetype": "text/x-python",
   "name": "python",
   "nbconvert_exporter": "python",
   "pygments_lexer": "ipython3",
   "version": "3.11.9"
  }
 },
 "nbformat": 4,
 "nbformat_minor": 5
}
