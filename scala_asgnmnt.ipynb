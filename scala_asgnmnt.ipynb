{
 "cells": [
  {
   "cell_type": "code",
   "execution_count": 1,
   "id": "3613925a-b9b0-4aa4-848e-7f27d441a5c5",
   "metadata": {},
   "outputs": [
    {
     "data": {
      "text/plain": [
       "Intitializing Scala interpreter ..."
      ]
     },
     "metadata": {},
     "output_type": "display_data"
    },
    {
     "data": {
      "text/plain": [
       "Spark Web UI available at http://172.19.47.138:4040\n",
       "SparkContext available as 'sc' (version = 3.5.2, master = local[*], app id = local-1725864732448)\n",
       "SparkSession available as 'spark'\n"
      ]
     },
     "metadata": {},
     "output_type": "display_data"
    },
    {
     "name": "stdout",
     "output_type": "stream",
     "text": [
      "Array sum is : 55.0\n",
      "Array Average is : 5.5\n",
      "Array after multiplying by 2 : 2,4,6,8,10,12,14,16,18,20\n"
     ]
    },
    {
     "data": {
      "text/plain": [
       "arr: Array[Int] = Array(1, 2, 3, 4, 5, 6, 7, 8, 9, 10)\r\n",
       "arr_sum: Float = 55.0\r\n",
       "arr_map: Array[Int] = Array(2, 4, 6, 8, 10, 12, 14, 16, 18, 20)\r\n"
      ]
     },
     "execution_count": 1,
     "metadata": {},
     "output_type": "execute_result"
    }
   ],
   "source": [
    "/* 1. Basic Array Operations:\n",
    "- Create an array of integers with 10 elements.*/\n",
    "var arr = Array(1,2,3,4,5,6,7,8,9,10)\n",
    "// Write a Scala program that calculates the sum and the average of all elements in the array.\n",
    "var arr_sum:Float=arr.sum\n",
    "println(\"Array sum is : \" + arr_sum)\n",
    "println(\"Array Average is : \" + arr_sum/arr.length)\n",
    "//Modify the array by multiplying each element by 2.*/\n",
    "var arr_map= arr.map(_ * 2)\n",
    "println(\"Array after multiplying by 2 : \"+arr_map.mkString(\",\"))"
   ]
  },
  {
   "cell_type": "code",
   "execution_count": 3,
   "id": "e1efef1c-7456-4d89-a222-76a31d1d2638",
   "metadata": {},
   "outputs": [
    {
     "name": "stdout",
     "output_type": "stream",
     "text": [
      "------------------------------------------------------------\n",
      "10, 9, 8, 7, 6, 5, 4, 3, 2, 1\n",
      "------------------------------------------------------------\n",
      "minimum num: 1\n",
      "------------------------------------------------------------\n",
      "maximum num : 10\n",
      "------------------------------------------------------------\n"
     ]
    },
    {
     "data": {
      "text/plain": [
       "rvr: Array[Int] = Array(10, 9, 8, 7, 6, 5, 4, 3, 2, 1)\r\n"
      ]
     },
     "execution_count": 3,
     "metadata": {},
     "output_type": "execute_result"
    }
   ],
   "source": [
    "/*2. Array Manipulation:\n",
    "- Write a program to reverse the given array.\n",
    "var arr = Array(1,2,3,4,5,6,7,8,9,10*/\n",
    "val rvr = arr.reverse\n",
    "println(\"-\"*60)\n",
    "println(rvr.mkString(\", \"))\n",
    "println(\"-\"*60)\n",
    "//Find the maximum and minimum elements in the array.\n",
    "println(\"minimum num: \"+arr.min) //output 1\n",
    "println(\"-\"*60)\n",
    "println(\"maximum num : \"+ arr.max) // Output: 7\n",
    "println(\"-\"*60)"
   ]
  },
  {
   "cell_type": "code",
   "execution_count": 4,
   "id": "65e138f5-7f2b-4225-871a-7f47821cd9f3",
   "metadata": {},
   "outputs": [
    {
     "name": "stdout",
     "output_type": "stream",
     "text": [
      "List(1, 2, 3, 4, 5, 6, 7, 8, 9, 10)\n",
      "------------------------------------------------------------\n",
      "Even numbers in the list : List(2, 4, 6, 8, 10)\n",
      "------------------------------------------------------------\n",
      "Sum of Even numbers in the list : 30\n"
     ]
    },
    {
     "data": {
      "text/plain": [
       "lst: List[Int] = List(1, 2, 3, 4, 5, 6, 7, 8, 9, 10)\r\n"
      ]
     },
     "execution_count": 4,
     "metadata": {},
     "output_type": "execute_result"
    }
   ],
   "source": [
    "/*Collections\n",
    "1. Lists:\n",
    "- Create a list of integers from 1 to 10.*/\n",
    "var lst=List(1,2,3,4,5,6,7,8,9,10)\n",
    "println(lst)\n",
    "//Filter the list to keep only even numbers.\n",
    "println(\"-\"*60)\n",
    "println(\"Even numbers in the list : \"+lst.filter(_%2==0))\n",
    "println(\"-\"*60)\n",
    "// Find the sum of all elements in the filtered list.\n",
    "println(\"Sum of Even numbers in the list : \"+lst.filter(_%2==0).sum)"
   ]
  },
  {
   "cell_type": "code",
   "execution_count": 9,
   "id": "c9810706-359f-46c3-949d-f2498d85bf63",
   "metadata": {},
   "outputs": [
    {
     "name": "stdout",
     "output_type": "stream",
     "text": [
      "Nepal is not in the map.\n",
      "The capital of Japan is Tokyo.\n"
     ]
    },
    {
     "data": {
      "text/plain": [
       "cntry_cap: scala.collection.immutable.Map[String,String] = Map(Japan -> Tokyo, Russia -> Moscow, China -> Beijing, India -> New Delhi, France -> Paris)\r\n",
       "findCapital: (country: String)Unit\r\n"
      ]
     },
     "execution_count": 9,
     "metadata": {},
     "output_type": "execute_result"
    }
   ],
   "source": [
    "/* 3. Maps:\n",
    "- Create a Map to store 5 country-capital pairs.\n",
    "- Write a program to check if a given key (country) exists in the map.\n",
    "- If the country exists, print its capital.*/\n",
    "\n",
    "val cntry_cap= Map(\n",
    "  \"India\" -> \"New Delhi\",\n",
    "  \"Russia\" -> \"Moscow\",\n",
    "  \"Japan\" -> \"Tokyo\",\n",
    "  \"France\" -> \"Paris\",\n",
    "  \"China\" -> \"Beijing\"\n",
    "      )\n",
    "\n",
    "// Function to check if a given country exists in the map and print its capital\n",
    "def findCapital(country: String){\n",
    "  var found = false\n",
    "  var capital = \"\"\n",
    "\n",
    "  for ((key, value) <- cntry_cap if !found) {\n",
    "    if (key == country) {\n",
    "      found = true\n",
    "      capital = value\n",
    "    }\n",
    "  }\n",
    "\n",
    "  if (found) {\n",
    "    println(s\"The capital of $country is $capital.\")\n",
    "  } else {\n",
    "    println(s\"$country is not in the map.\")\n",
    "  }\n",
    "}\n",
    "\n",
    "// Example usage\n",
    " findCapital(\"Nepal\")\n",
    " findCapital(\"Japan\")\n"
   ]
  },
  {
   "cell_type": "code",
   "execution_count": 11,
   "id": "a90a20a3-f552-4162-8bd9-74a454c05f98",
   "metadata": {},
   "outputs": [
    {
     "name": "stdout",
     "output_type": "stream",
     "text": [
      "Circle: Area = 314.16, Perimeter = 62.83\n",
      "Rectangle: Area = 1200.00, Perimeter = 160.00\n"
     ]
    },
    {
     "data": {
      "text/plain": [
       "defined trait Shape\r\n",
       "defined class Circle\r\n",
       "defined class Rectangle\r\n",
       "circle: Circle = Circle@738a74e7\r\n",
       "rectangle: Rectangle = Rectangle@79be759e\r\n"
      ]
     },
     "execution_count": 11,
     "metadata": {},
     "output_type": "execute_result"
    }
   ],
   "source": [
    "trait Shape{\n",
    "    def area() : Double\n",
    "    def perimeter() : Double\n",
    "}\n",
    "class Circle(val radius: Double) extends Shape {\n",
    "  override def area(): Double = Math.PI * radius * radius\n",
    "  override def perimeter(): Double = 2 * Math.PI * radius\n",
    "}\n",
    "class Rectangle(val length: Double, val width: Double) extends Shape {\n",
    "  override def area(): Double = length * width\n",
    "  override def perimeter(): Double = 2 * (length + width)\n",
    "}\n",
    "val circle = new Circle(10)\n",
    "val rectangle = new Rectangle(60,20)\n",
    "println(f\"Circle: Area = ${circle.area()}%.2f, Perimeter = ${circle.perimeter()}%.2f\")\n",
    "println(f\"Rectangle: Area = ${rectangle.area()}%.2f, Perimeter = ${rectangle.perimeter()}%.2f\")"
   ]
  },
  {
   "cell_type": "code",
   "execution_count": 13,
   "id": "d8dd8655-3fd7-4e3f-9155-d7ba5d760ed4",
   "metadata": {},
   "outputs": [
    {
     "name": "stdout",
     "output_type": "stream",
     "text": [
      "Dog:\n",
      "Dog says: Bark!\n",
      "Dog is running\n",
      "\n",
      "Bird:\n",
      "Bird says: ChiChi!\n",
      "Bird is flying.\n"
     ]
    },
    {
     "data": {
      "text/plain": [
       "defined class Animal\r\n",
       "defined class Dog\r\n",
       "defined class Bird\r\n",
       "dog: Dog = Dog@3f0ee001\r\n",
       "bird: Bird = Bird@68eac88e\r\n"
      ]
     },
     "execution_count": 13,
     "metadata": {},
     "output_type": "execute_result"
    }
   ],
   "source": [
    "/*1. Classes and Inheritance:\n",
    "- Create a base class `Animal` with methods `speak()` and `move()`.\n",
    "- Create two subclasses `Dog` and `Bird` that inherit from the `Animal` class.\n",
    "- Override the `speak()` and `move()` methods in the subclasses.\n",
    "- Write a program that creates instances of `Dog` and `Bird`, and calls their `speak()` and\n",
    "`move()` methods.*/\n",
    "class Animal {\n",
    "  def speak(){\n",
    "    println(\"Animal is making a sound\")\n",
    "  }\n",
    "\n",
    "  def move(){\n",
    "    println(\"Animal is moving.\")\n",
    "  }\n",
    "}\n",
    "class Dog extends Animal {\n",
    "  override def speak(): Unit = {\n",
    "    println(\"Dog says: Bark!\")\n",
    "  }\n",
    "\n",
    "  override def move(){\n",
    "    println(\"Dog is running\")\n",
    "  }\n",
    "}\n",
    "class Bird extends Animal {\n",
    "  override def speak(){\n",
    "    println(\"Bird says: ChiChi!\")\n",
    "  }\n",
    "\n",
    "  override def move(){\n",
    "    println(\"Bird is flying.\")\n",
    "  }\n",
    "}\n",
    "val dog = new Dog\n",
    "val bird = new Bird\n",
    "\n",
    "println(\"Dog:\")\n",
    "dog.speak()\n",
    "dog.move()\n",
    "\n",
    "println(\"\\nBird:\")\n",
    "bird.speak()\n",
    "bird.move()\n"
   ]
  },
  {
   "cell_type": "code",
   "execution_count": 14,
   "id": "43482ad0-9cbc-485d-ab73-9c38c3362a0a",
   "metadata": {},
   "outputs": [
    {
     "name": "stdout",
     "output_type": "stream",
     "text": [
      "Current balance is 15000.0.\n",
      "Deposited 25000.0. New balance is 40000.0.\n",
      "Withdrew 12000.0. Current balance is 28000.0.\n",
      "Withdrew 6500.0. Current balance is 21500.0.\n",
      "Current balance is 21500.0.\n"
     ]
    },
    {
     "data": {
      "text/plain": [
       "defined class BankAccount\r\n",
       "account: BankAccount = BankAccount@7780cb87\r\n"
      ]
     },
     "execution_count": 14,
     "metadata": {},
     "output_type": "execute_result"
    }
   ],
   "source": [
    "/* 2. Encapsulation:\n",
    "- Create a class `BankAccount` with private variables `accountNumber` and `balance`.\n",
    "- Implement methods to deposit and withdraw money from the account, ensuring the balance\n",
    "cannot go negative.\n",
    "- Provide a method to display the current balance.*/\n",
    "class BankAccount(private val accountNumber: String, private var balance: Double) {\n",
    "\n",
    "  // Method to deposit money into the account\n",
    "  def deposit(amount: Double){\n",
    "    if (amount > 0) {\n",
    "      balance += amount\n",
    "      println(s\"Deposited $amount. New balance is $balance.\")\n",
    "    } else {\n",
    "      println(\"Deposit amount must be positive.\")\n",
    "    }\n",
    "  }\n",
    "\n",
    "  // Method to withdraw money from the account\n",
    "  def withdraw(amount: Double){\n",
    "    if (amount > 0 && amount <= balance) {\n",
    "      balance -= amount\n",
    "      println(s\"Withdrew $amount. Current balance is $balance.\")\n",
    "    } else if (amount > balance) {\n",
    "      println(\"Insufficient fund.\")\n",
    "    } else {\n",
    "      println(\"Withdrawal amount must be positive.\")\n",
    "    }\n",
    "  }\n",
    "\n",
    "  // Method to display the current balance\n",
    "  def displayBalance(){\n",
    "    println(s\"Current balance is $balance.\")\n",
    "  }\n",
    "}\n",
    "\n",
    "\n",
    "val account = new BankAccount(\"12345678\", 15000.0)\n",
    "\n",
    "\n",
    "account.displayBalance() // Display initial balance\n",
    "account.deposit(25000.0) // Deposit money\n",
    "account.withdraw(12000.0) // Withdraw money\n",
    "account.withdraw(6500.0) // Attempt to withdraw more money than available\n",
    "account.displayBalance() // Display final balance"
   ]
  },
  {
   "cell_type": "code",
   "execution_count": null,
   "id": "a1421f81-8ca8-4f08-8a44-d6e185a88c33",
   "metadata": {},
   "outputs": [],
   "source": []
  }
 ],
 "metadata": {
  "kernelspec": {
   "display_name": "spylon-kernel",
   "language": "scala",
   "name": "spylon-kernel"
  },
  "language_info": {
   "codemirror_mode": "text/x-scala",
   "file_extension": ".scala",
   "help_links": [
    {
     "text": "MetaKernel Magics",
     "url": "https://metakernel.readthedocs.io/en/latest/source/README.html"
    }
   ],
   "mimetype": "text/x-scala",
   "name": "scala",
   "pygments_lexer": "scala",
   "version": "0.4.1"
  }
 },
 "nbformat": 4,
 "nbformat_minor": 5
}
